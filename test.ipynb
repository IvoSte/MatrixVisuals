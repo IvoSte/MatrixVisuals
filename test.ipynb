{
 "cells": [
  {
   "cell_type": "code",
   "execution_count": 2,
   "metadata": {},
   "outputs": [],
   "source": [
    "import numpy as np\n",
    "\n",
    "v1 = np.array([1, 2, 3])\n",
    "v2 = np.array([4, 5, 6])"
   ]
  },
  {
   "cell_type": "code",
   "execution_count": 3,
   "metadata": {},
   "outputs": [],
   "source": [
    "def manhattan_distance(vector_1, vector_2):\n",
    "    return sum(abs(vector_1 - vector_2))\n",
    "\n",
    "def euclidian_distance(vector_1, vector_2):\n",
    "    return np.sqrt(np.sum(np.power(vector_1 - vector_2, 2)))"
   ]
  },
  {
   "cell_type": "code",
   "execution_count": 4,
   "metadata": {},
   "outputs": [
    {
     "name": "stdout",
     "output_type": "stream",
     "text": [
      "Manhattan distance: 9\n",
      "Euclidian distance: 5.196152422706632\n"
     ]
    }
   ],
   "source": [
    "d1 = manhattan_distance(v1, v2)\n",
    "d2 = euclidian_distance(v1, v2)\n",
    "print(f\"Manhattan distance: {d1}\")\n",
    "print(f\"Euclidian distance: {d2}\")"
   ]
  }
 ],
 "metadata": {
  "kernelspec": {
   "display_name": "Python 3",
   "language": "python",
   "name": "python3"
  },
  "language_info": {
   "codemirror_mode": {
    "name": "ipython",
    "version": 3
   },
   "file_extension": ".py",
   "mimetype": "text/x-python",
   "name": "python",
   "nbconvert_exporter": "python",
   "pygments_lexer": "ipython3",
   "version": "3.11.2"
  }
 },
 "nbformat": 4,
 "nbformat_minor": 2
}
